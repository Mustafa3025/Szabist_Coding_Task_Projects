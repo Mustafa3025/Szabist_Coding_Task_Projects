{
 "cells": [
  {
   "cell_type": "code",
   "execution_count": 1,
   "metadata": {},
   "outputs": [],
   "source": [
    "import numpy as np\n",
    "from numpy import linalg as lin\n",
    "\n",
    "def matrix_multiply(matrix_1, matrix_2):\n",
    "    return np.matmul(matrix_1, matrix_2)\n",
    "\n",
    "def matrix_inversion(matrix):\n",
    "    return lin.inv(matrix)\n",
    "\n",
    "def matrix_determinant(matrix):\n",
    "    return lin.det(matrix)\n",
    "\n",
    "def linear_system_Solver(matrix_1, matrix_2):\n",
    "    return lin.solve(matrix_1, matrix_2)\n",
    "\n",
    "def matrix_eigenvalues(matrix):\n",
    "    return lin.eigvals(matrix)\n",
    "\n",
    "def matrix_decomposition(matrix):\n",
    "    return lin.svd(matrix)\n",
    "\n",
    "def matrix_rank(matrix):\n",
    "    return lin.matrix.rank(matrix)\n",
    "\n",
    "def matrix_norm_calculation_1_norm(matrix):\n",
    "    return np.max(np.sum(np.abs(matrix), axis = 0))\n",
    "\n",
    "def matrix_norm_calculation_2_norm(matrix):\n",
    "    return np.max(lin.svd(matrix)[1])\n"
   ]
  },
  {
   "cell_type": "code",
   "execution_count": null,
   "metadata": {},
   "outputs": [],
   "source": []
  }
 ],
 "metadata": {
  "kernelspec": {
   "display_name": "Python 3",
   "language": "python",
   "name": "python3"
  },
  "language_info": {
   "codemirror_mode": {
    "name": "ipython",
    "version": 3
   },
   "file_extension": ".py",
   "mimetype": "text/x-python",
   "name": "python",
   "nbconvert_exporter": "python",
   "pygments_lexer": "ipython3",
   "version": "3.12.1"
  }
 },
 "nbformat": 4,
 "nbformat_minor": 2
}
