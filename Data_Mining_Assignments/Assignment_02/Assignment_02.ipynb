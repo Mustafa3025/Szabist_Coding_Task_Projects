{
 "cells": [
  {
   "cell_type": "code",
   "execution_count": 48,
   "metadata": {},
   "outputs": [],
   "source": [
    "import pandas as pd\n",
    "from sklearn.model_selection import train_test_split\n",
    "from sklearn.naive_bayes import GaussianNB\n",
    "from sklearn.tree import DecisionTreeClassifier\n",
    "from sklearn.metrics import accuracy_score\n",
    "\n",
    "df = pd.read_csv(\"train.csv\")\n"
   ]
  },
  {
   "cell_type": "code",
   "execution_count": 49,
   "metadata": {},
   "outputs": [
    {
     "data": {
      "text/plain": [
       "Index(['PassengerId', 'Survived', 'Pclass', 'Name', 'Sex', 'Age', 'SibSp',\n",
       "       'Parch', 'Ticket', 'Fare', 'Cabin', 'Embarked'],\n",
       "      dtype='object')"
      ]
     },
     "execution_count": 49,
     "metadata": {},
     "output_type": "execute_result"
    }
   ],
   "source": [
    "df.columns"
   ]
  },
  {
   "cell_type": "code",
   "execution_count": 50,
   "metadata": {},
   "outputs": [
    {
     "name": "stdout",
     "output_type": "stream",
     "text": [
      "There are 866 null values in the dataset\n"
     ]
    }
   ],
   "source": [
    "print(f\"There are {df.isnull().sum().sum()} null values in the dataset\")"
   ]
  },
  {
   "cell_type": "code",
   "execution_count": 51,
   "metadata": {},
   "outputs": [
    {
     "name": "stdout",
     "output_type": "stream",
     "text": [
      "<class 'pandas.core.frame.DataFrame'>\n",
      "RangeIndex: 891 entries, 0 to 890\n",
      "Data columns (total 12 columns):\n",
      " #   Column       Non-Null Count  Dtype  \n",
      "---  ------       --------------  -----  \n",
      " 0   PassengerId  891 non-null    int64  \n",
      " 1   Survived     891 non-null    int64  \n",
      " 2   Pclass       891 non-null    int64  \n",
      " 3   Name         891 non-null    object \n",
      " 4   Sex          891 non-null    object \n",
      " 5   Age          714 non-null    float64\n",
      " 6   SibSp        891 non-null    int64  \n",
      " 7   Parch        891 non-null    int64  \n",
      " 8   Ticket       891 non-null    object \n",
      " 9   Fare         891 non-null    float64\n",
      " 10  Cabin        204 non-null    object \n",
      " 11  Embarked     889 non-null    object \n",
      "dtypes: float64(2), int64(5), object(5)\n",
      "memory usage: 83.7+ KB\n"
     ]
    }
   ],
   "source": [
    "df.info()"
   ]
  },
  {
   "cell_type": "code",
   "execution_count": 52,
   "metadata": {},
   "outputs": [],
   "source": [
    "\n",
    "df.drop(['Name', 'Ticket', 'Cabin'], axis=1, inplace=True)\n",
    "df.dropna(inplace=True)\n",
    "df = pd.get_dummies(df, columns=['Sex', 'Embarked'], drop_first=True)\n",
    "\n",
    "X = df.drop(['Survived'], axis=1)\n",
    "y = df['Survived']\n",
    "X_train, X_test, y_train, y_test = train_test_split(X, y, test_size=0.2, random_state=42)"
   ]
  },
  {
   "cell_type": "code",
   "execution_count": 53,
   "metadata": {},
   "outputs": [
    {
     "name": "stdout",
     "output_type": "stream",
     "text": [
      "There are 0 null values in the dataset\n"
     ]
    }
   ],
   "source": [
    "print(f\"There are {df.isnull().sum().sum()} null values in the dataset\")"
   ]
  },
  {
   "cell_type": "code",
   "execution_count": 54,
   "metadata": {},
   "outputs": [
    {
     "name": "stdout",
     "output_type": "stream",
     "text": [
      "<class 'pandas.core.frame.DataFrame'>\n",
      "Index: 712 entries, 0 to 890\n",
      "Data columns (total 10 columns):\n",
      " #   Column       Non-Null Count  Dtype  \n",
      "---  ------       --------------  -----  \n",
      " 0   PassengerId  712 non-null    int64  \n",
      " 1   Survived     712 non-null    int64  \n",
      " 2   Pclass       712 non-null    int64  \n",
      " 3   Age          712 non-null    float64\n",
      " 4   SibSp        712 non-null    int64  \n",
      " 5   Parch        712 non-null    int64  \n",
      " 6   Fare         712 non-null    float64\n",
      " 7   Sex_male     712 non-null    bool   \n",
      " 8   Embarked_Q   712 non-null    bool   \n",
      " 9   Embarked_S   712 non-null    bool   \n",
      "dtypes: bool(3), float64(2), int64(5)\n",
      "memory usage: 46.6 KB\n"
     ]
    }
   ],
   "source": [
    "df.info()"
   ]
  },
  {
   "cell_type": "code",
   "execution_count": 55,
   "metadata": {},
   "outputs": [],
   "source": [
    "\n",
    "naive_bayes = GaussianNB()\n",
    "naive_bayes.fit(X_train, y_train)\n",
    "y_pred_nb = naive_bayes.predict(X_test)\n",
    "accuracy_naive_bayes = accuracy_score(y_test, y_pred_nb)\n",
    "accuracy_naive_bayes_percentage = accuracy_naive_bayes * 100\n",
    "accuracy_naive_bayes_percentage = round(accuracy_naive_bayes_percentage, 2)"
   ]
  },
  {
   "cell_type": "code",
   "execution_count": 56,
   "metadata": {},
   "outputs": [],
   "source": [
    "decision_tree = DecisionTreeClassifier()\n",
    "decision_tree.fit(X_train, y_train)\n",
    "y_pred_dt = decision_tree.predict(X_test)\n",
    "accuracy_decision_tree = accuracy_score(y_test, y_pred_dt)\n",
    "accuracy_decision_tree_percentage = accuracy_decision_tree * 100\n",
    "accuracy_decision_tree_percentage = round(accuracy_decision_tree_percentage, 2)\n"
   ]
  },
  {
   "cell_type": "code",
   "execution_count": 60,
   "metadata": {},
   "outputs": [
    {
     "name": "stdout",
     "output_type": "stream",
     "text": [
      "Naive Bayes Accuracy: 76.92 %\n",
      "Decision Tree Accuracy: 69.23 %\n",
      "Naive Bayes performs slighty better than Decision Tree on this dataset \n"
     ]
    }
   ],
   "source": [
    "\n",
    "print(f\"Naive Bayes Accuracy: {accuracy_naive_bayes_percentage} %\")\n",
    "print(f\"Decision Tree Accuracy: {accuracy_decision_tree_percentage} %\")\n",
    "\n",
    "if accuracy_decision_tree_percentage > accuracy_naive_bayes_percentage:\n",
    "    if (accuracy_decision_tree_percentage - accuracy_naive_bayes_percentage) <= 10:\n",
    "        print(\"Decision Tree performs slighty better than Decision Tree on this dataset \")\n",
    "    else:\n",
    "        print(\"Decision Tree performs better than Decision Tree on this dataset \")\n",
    "elif accuracy_naive_bayes_percentage > accuracy_decision_tree_percentage:\n",
    "    if (accuracy_naive_bayes_percentage - accuracy_decision_tree_percentage) <= 10:\n",
    "        print(\"Naive Bayes performs slighty better than Decision Tree on this dataset \")\n",
    "    else:\n",
    "        print(\"Naive Bayes performs better than Decision Tree on this dataset \")\n"
   ]
  },
  {
   "cell_type": "code",
   "execution_count": null,
   "metadata": {},
   "outputs": [],
   "source": []
  }
 ],
 "metadata": {
  "kernelspec": {
   "display_name": "Python 3",
   "language": "python",
   "name": "python3"
  },
  "language_info": {
   "codemirror_mode": {
    "name": "ipython",
    "version": 3
   },
   "file_extension": ".py",
   "mimetype": "text/x-python",
   "name": "python",
   "nbconvert_exporter": "python",
   "pygments_lexer": "ipython3",
   "version": "3.12.1"
  }
 },
 "nbformat": 4,
 "nbformat_minor": 2
}
